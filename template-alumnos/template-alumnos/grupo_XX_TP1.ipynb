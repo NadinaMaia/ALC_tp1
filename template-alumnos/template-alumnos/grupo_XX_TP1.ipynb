{
 "cells": [
  {
   "cell_type": "markdown",
   "id": "7c9189f6",
   "metadata": {},
   "source": [
    "# Trabajo Práctico 1 - Cálculo de Ranking Page"
   ]
  },
  {
   "cell_type": "markdown",
   "id": "6e0f8dd8-6d20-43c0-987b-5f613f0168d6",
   "metadata": {},
   "source": [
    "## Enunciado"
   ]
  },
  {
   "cell_type": "markdown",
   "id": "11f7face-a325-4e30-b13e-0c3d84280c5e",
   "metadata": {},
   "source": [
    "### Pregunta 1 - ¿Por que la matriz A definida en (4) es equivalente a $p \\ \\mathbf{W} \\ \\mathbf{D} + e \\ z^t$ ? Justificar."
   ]
  },
  {
   "cell_type": "markdown",
   "id": "e69c407d-9132-421c-8d02-508da3bb3ae6",
   "metadata": {},
   "source": []
  },
  {
   "cell_type": "markdown",
   "id": "6ea60699-4c07-40fb-8f71-ec4cacf32708",
   "metadata": {},
   "source": [
    "### Pregunta 2 -  ¿Cómo se garantiza existencia de la factorización $LU$? ¿ La matriz $(\\mathbf{I} - p \\ \\mathbf{W} \\ \\mathbf{D})$ está bien condicionada? ¿Cómo influye el valor de $p$?"
   ]
  },
  {
   "cell_type": "markdown",
   "id": "aa5a3f58",
   "metadata": {},
   "source": [
    "### ¿Cómo se garantiza existencia de la factorización  𝐿𝑈?  "
   ]
  },
  {
   "cell_type": "markdown",
   "id": "7bd6874b-654c-4964-89eb-20674ab7a540",
   "metadata": {},
   "source": [
    "Queremos probar que teniendo una matriz $A = I - pWD$ , ésta admite descomposicion LU, si A es diagonal dominante.\n",
    "\n",
    "Se dice que una matriz cuadrada es *diagonal dominante* (por filas) si el valor absoluto de la entrada en la diagonal principal de una fila es mayor o igual a la suma de los valores absolutos de todas las demás entradas (no diagonales) de esa fila.\n",
    "\n",
    "W es aquella matriz que se construye estableciendo wij = 1 si la página j tiene un link a la página i y $w_{ij}$ = 0 en caso contrario.\n",
    "Además $w_{ii} \\neq 0$  pues ignoramos los autolinks.\n",
    "Tomamos W $\\in \\mathbb{R}^{3 \\times 3}$.\n",
    "\n",
    "<div style=\"text-align:center\">\n",
    "\\( W = \n",
    "\\begin{pmatrix}\n",
    "0 & a & b \\\\\n",
    "c & 0 & d \\\\\n",
    "e & f & 0\n",
    "\\end{pmatrix} \\)\n",
    "</div>\n",
    "\n",
    "Luego, D es una matriz diagonal con elementos $d_{jj}$ de la forma:\n",
    "\n",
    "\\begin{equation}\n",
    "  d_{jj} = \\left\\lbrace\n",
    "  \\begin{array}{ll}\n",
    "    \\frac{1}{c_j} & \\text{si } c_j \\neq 0\\\\\n",
    "    0 & \\text{si } c_j = 0\n",
    "  \\end{array}\n",
    "  \\right.\n",
    "\\end{equation}\n",
    "\n",
    "El termino $-pWD$, nos da como resultado una matriz con ceros en la diagonal.\n",
    "\n",
    "\n",
    "<div style=\"text-align:center\">\n",
    "\\(-pWD = \n",
    "\\begin{pmatrix}\n",
    "    0 & -pah & -pbi\\\\\n",
    "    -pcg & 0 & -pdi\\\\\n",
    "    -peg & -pfg & 0\n",
    "  \\end{pmatrix} \\)\n",
    "</div>\n",
    "\n",
    "A esta matriz se le debe sumar la identidad y aplicarle modulo. Vemos que se obtiene:\n",
    "\n",
    "\n",
    "<div style=\"text-align:center\">\n",
    "\\(|I-pWD| = \n",
    "\\begin{pmatrix}\n",
    "    1 & |pah| & |pbi|\\\\\n",
    "    |pcg| & 1 & |pdi|\\\\\n",
    "    |peg & |pfg| & 1\n",
    "  \\end{pmatrix} \\)\n",
    "</div>\n",
    "\n",
    "Observemos los términos fuera de la diagonal. Tomemos ∣𝑝𝑎ℎ∣ como representante:\n",
    "\\begin{equation}\n",
    "    |1| \\geq  |p*a*h|\n",
    "\\end{equation}\n",
    "\n",
    "Recordemos que $ p\\in (0,1)$, y $a$ y $h \\in [0,1]$. Como $0<p<1$,  $0 \\leqslant a,h \\leqslant 1$, pah no puede ser mayor a 1\n",
    "\n",
    "Debido a que 𝐴 es una matriz diagonal dominante, existe su descomposición LU."
   ]
  },
  {
   "cell_type": "markdown",
   "id": "994dfd68",
   "metadata": {},
   "source": [
    "### ¿ La matriz  (𝐈−𝑝 𝐖 𝐃) está bien condicionada? ¿Cómo influye el valor de  𝑝?"
   ]
  },
  {
   "cell_type": "markdown",
   "id": "f2df1fba",
   "metadata": {},
   "source": [
    "Notemos que cond(A) = (𝐈−𝑝 𝐖 𝐃)\n",
    "\n",
    "Cuando p tienda a 0, $pWD$ tendera a cero, por lo que:\n",
    "\n",
    "$cond(A)$ $\\approx (I)$ $\\Longrightarrow$ $cond(A)$ tiende a 1\n",
    "\n",
    "Que pasa cuando p tiende a 1?\n",
    "\n",
    "Probamos experimentalmente que ocurre cuando p tiende a 1, para una matriz de COMPLETAR y vemos que $cond(A)$ se hace cada vez mayor. \n",
    "\n",
    "En la diagonal principal tendremos valores que tienden a cero, y por fuera de ella valores > 0. Como las filas suman 0, son linealmente dependientes"
   ]
  },
  {
   "cell_type": "markdown",
   "id": "b6527567-ea14-4fb0-8cbb-3faa67fee8c1",
   "metadata": {},
   "source": [
    "---"
   ]
  },
  {
   "cell_type": "markdown",
   "id": "c0620b64-0c90-4893-9cc7-65e1ec784254",
   "metadata": {},
   "source": [
    "## Implementación"
   ]
  },
  {
   "cell_type": "markdown",
   "id": "278fa511-9ad9-4124-b1b9-9198f1467c08",
   "metadata": {},
   "source": [
    "Implementar la factorización $LU$ para resolver el sistema de ecuaciones (6) que permite hallar la solución buscada (es decir, el ranking de páginas). Se podrá utilizar la función **scipy.linalg.solve_triangular** para resolver sistemas triangulares.\n",
    "\n",
    "En el siguiente cuerpo de la notebook se genera un test que va a evaluar la función que resuelve el sistema a través de un test unitario. La resolución debe realizarse en el archivo **funciones.py** que acompaña el **template-alumnos**."
   ]
  },
  {
   "cell_type": "code",
   "execution_count": 1,
   "id": "b0c1dd63",
   "metadata": {},
   "outputs": [
    {
     "name": "stdout",
     "output_type": "stream",
     "text": [
      "**************************************************\n",
      "Test unitario 1\n",
      "BIEN! - Paso correctamente el test unitario\n",
      "**************************************************\n",
      "0.1812\n",
      "[9, 1, 1, 1, 1, 11, 12, 9, 7, 5, 5, 7]\n",
      "[0.07971014 0.05978261 0.05978261 0.05978261 0.05978261 0.18115942\n",
      " 0.18115942 0.07971014 0.05978261 0.05978261 0.05978261 0.05978261]\n"
     ]
    }
   ],
   "source": [
    "from funciones import *"
   ]
  },
  {
   "cell_type": "markdown",
   "id": "589dfc50",
   "metadata": {},
   "source": [
    "### Test Unitario\n",
    "En el archivo funciones.py hay que implementar la función que obtienen el ranking de las páginas.\n",
    "Se espera que el llamado a la siguiente función arroje un valor esperado"
   ]
  },
  {
   "cell_type": "code",
   "execution_count": 3,
   "id": "be9e4b56",
   "metadata": {},
   "outputs": [
    {
     "name": "stdout",
     "output_type": "stream",
     "text": [
      "**************************************************\n",
      "Test unitario 1\n",
      "BIEN! - Paso correctamente el test unitario\n",
      "**************************************************\n"
     ]
    },
    {
     "data": {
      "image/png": "[encoded data removed]",
      "text/plain": [
       "<Figure size 640x480 with 1 Axes>"
      ]
     },
     "metadata": {},
     "output_type": "display_data"
    }
   ],
   "source": [
    "#ARCHIVOS DE ENTRADA\n",
    "archivo_test = './tests/test_dosestrellas.txt'\n",
    "    \n",
    "#CARGA DE ARCHIVO EN GRAFO\n",
    "W = leer_archivo(archivo_test)\n",
    "\n",
    "dibujarGrafo(W, print_ejes=False)\n",
    "# defino la probabilidad de salto de continuar los links de la pagina actual\n",
    "p = 0.5\n",
    "# Realizo el test unitario para el calculo del mayor score, que pruebe que el codigo funciona correctamente.\n",
    "print('*'*50)\n",
    "print('Test unitario 1')\n",
    "try:\n",
    "    compara = obtenerMaximoRankingScore(W, p)\n",
    "    assert(np.isclose(compara, 0.1811, atol= 0.0001))\n",
    "except:\n",
    "    print('OUCH!! - No paso el test unitario')\n",
    "else:\n",
    "    print('BIEN! - Paso correctamente el test unitario')\n",
    "print('*'*50)\n"
   ]
  },
  {
   "cell_type": "markdown",
   "id": "4a536571-fb90-42ca-af58-a99efd1ebaa9",
   "metadata": {},
   "source": [
    "### Test Unitarios Adicionales\n",
    "\n",
    "El grupo **deberá** proponer al menos 3 instancias de prueba no triviales, dos de las cuales deben ser de tipo TODOS LOS NODOS CONECTADOS, y otra de tipo NINGUNO CONECTADO. La tercera instancia queda a criterio del grupo.\n",
    "\n",
    "Para el análisis, guiarse y responder las siguientes preguntas: \n",
    "\n",
    "* ¿Cómo es el ranking obtenido en cada caso de acuerdo a la estructura del grafo páginas? \n",
    "* ¿Qué conclusiones pueden sacar de la interpretación de los resultados?\n",
    "\n",
    "Graficar los grafos usando las funciones en el **funciones.py**."
   ]
  },
  {
   "cell_type": "code",
   "execution_count": null,
   "id": "07f69bd8-9a22-4fa0-8e69-7e2580e80459",
   "metadata": {},
   "outputs": [],
   "source": []
  },
  {
   "cell_type": "markdown",
   "id": "19403a3c-422b-4bdb-85b3-058b90560067",
   "metadata": {},
   "source": [
    "---"
   ]
  },
  {
   "cell_type": "markdown",
   "id": "2b22c6d2-4f83-4f2f-a3f0-6a7bc02db06a",
   "metadata": {},
   "source": [
    "## Enunciado\n",
    "\n",
    "Sobre los casos de test que se encuentran en el folder `tests`, se pide realizar los análisis siguientes para todos los grafos del folder."
   ]
  },
  {
   "cell_type": "markdown",
   "id": "d121780f-0961-4732-98d0-5183e854f321",
   "metadata": {},
   "source": [
    "### Análisis Cuantitativo\n",
    "\n",
    "Para el análisis cuantitativo, se pide, como mínimo, estudiar los tiempos de procesamiento en función del tamaño del grafo de páginas y de la densidad del mismo. Para esto, se espera que presenten gráficos mostrando los tiempos de ejecución para obtener la solución en función de la cantidad de nodos/links de diferentes grafos de páginas aleatorios.\n"
   ]
  },
  {
   "cell_type": "code",
   "execution_count": null,
   "id": "52d4cf03-2016-4894-a2fa-611009372fd9",
   "metadata": {},
   "outputs": [],
   "source": []
  },
  {
   "cell_type": "markdown",
   "id": "5c526dc0-ec1e-4d7c-a7a5-a2d149b10995",
   "metadata": {},
   "source": [
    "### Análisis Cualitativo\n",
    "\n",
    "Para el análisis cualitativo se deberán estudiar los rankings obtenidos, en función de la estructura del grafo, y del valor de $p$. Para esto, se espera que presenten gráficos mostrando las probabilidades de las páginas mejor rankeadas en función del valor de $p$. \n"
   ]
  },
  {
   "cell_type": "code",
   "execution_count": null,
   "id": "1eaefc30-264c-4441-89b6-96426c214016",
   "metadata": {},
   "outputs": [],
   "source": []
  },
  {
   "cell_type": "markdown",
   "id": "5bced759-2060-4751-9a30-7c77ddcbefb0",
   "metadata": {},
   "source": [
    "### Dos estrellas\n",
    "\n",
    "Para el caso **test_dosestrellas.txt** se pregunta: \n",
    "\n",
    "¿Cuál es la mínima cantidad de links que se deben agregar para que la pagina correspondiente al nodo 1 quede primera en el ranking? ¿ Cómo se modificó la conectividad? Analizar.\n",
    "\n"
   ]
  },
  {
   "cell_type": "code",
   "execution_count": null,
   "id": "113e745d-0c8e-4694-b362-8f1bfe50db73",
   "metadata": {},
   "outputs": [],
   "source": []
  },
  {
   "cell_type": "code",
   "execution_count": null,
   "id": "88371d3e-899c-4f86-a248-e01db2c1f5d0",
   "metadata": {},
   "outputs": [],
   "source": []
  }
 ],
 "metadata": {
  "kernelspec": {
   "display_name": "Python 3 (ipykernel)",
   "language": "python",
   "name": "python3"
  },
  "language_info": {
   "codemirror_mode": {
    "name": "ipython",
    "version": 3
   },
   "file_extension": ".py",
   "mimetype": "text/x-python",
   "name": "python",
   "nbconvert_exporter": "python",
   "pygments_lexer": "ipython3",
   "version": "3.9.13"
  }
 },
 "nbformat": 4,
 "nbformat_minor": 5
}
